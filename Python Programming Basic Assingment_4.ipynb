{
 "cells": [
  {
   "cell_type": "code",
   "execution_count": 1,
   "id": "1327bdfb",
   "metadata": {},
   "outputs": [],
   "source": [
    "import math"
   ]
  },
  {
   "cell_type": "code",
   "execution_count": 2,
   "id": "6ed67fa5",
   "metadata": {},
   "outputs": [
    {
     "name": "stdout",
     "output_type": "stream",
     "text": [
      "Factorial of 6 is 720\n"
     ]
    }
   ],
   "source": [
    "def factorial(n):\n",
    "    return(math.factorial(n))\n",
    "\n",
    "num = 6\n",
    "print(\"Factorial of\", num ,\"is\",factorial(num))"
   ]
  },
  {
   "cell_type": "code",
   "execution_count": 7,
   "id": "3afb8a98",
   "metadata": {},
   "outputs": [
    {
     "name": "stdout",
     "output_type": "stream",
     "text": [
      "10\n",
      "multiplcation table of 10 is: \n",
      "10 x 1 = 10\n",
      "10 x 2 = 20\n",
      "10 x 3 = 30\n",
      "10 x 4 = 40\n",
      "10 x 5 = 50\n",
      "10 x 6 = 60\n",
      "10 x 7 = 70\n",
      "10 x 8 = 80\n",
      "10 x 9 = 90\n",
      "10 x 10 = 100\n"
     ]
    }
   ],
   "source": [
    "#Python Program to Display the multiplication Table\n",
    "num = int(input())\n",
    "print(\"multiplcation table of 10 is: \")\n",
    "\n",
    "for i in range(1,11):\n",
    "    print(num, 'x',i, '=', num*i)"
   ]
  },
  {
   "cell_type": "code",
   "execution_count": 8,
   "id": "2c266097",
   "metadata": {},
   "outputs": [
    {
     "name": "stdout",
     "output_type": "stream",
     "text": [
      "1\n",
      "2\n",
      "3\n",
      "5\n",
      "8\n",
      "13\n",
      "21\n",
      "34\n"
     ]
    }
   ],
   "source": [
    "#Python Program to Print the Fibonacci sequence\n",
    "x = 0\n",
    "y = 1\n",
    "fibonacci = 0\n",
    "while fibonacci < 8:\n",
    "    z = x + y\n",
    "    print(z)\n",
    "    fibonacci = fibonacci + 1\n",
    "    x,y =y,z\n",
    "    "
   ]
  },
  {
   "cell_type": "code",
   "execution_count": 11,
   "id": "c47829a1",
   "metadata": {},
   "outputs": [
    {
     "name": "stdout",
     "output_type": "stream",
     "text": [
      "370\n",
      "370 is an Armstrong number\n"
     ]
    }
   ],
   "source": [
    "#Python Program to Check Armstrong Number\n",
    "\n",
    "num = int(input())\n",
    "sum = 0\n",
    "temp = num\n",
    "while temp > 0:\n",
    "    digit = temp % 10\n",
    "    sum +=digit**3\n",
    "    temp //= 10\n",
    "if num == sum:\n",
    "    print(num, \"is an Armstrong number\")\n",
    "else:\n",
    "    print(num, \"is not an Armstrong number\")\n"
   ]
  },
  {
   "cell_type": "code",
   "execution_count": 14,
   "id": "7b9b53b6",
   "metadata": {},
   "outputs": [
    {
     "name": "stdout",
     "output_type": "stream",
     "text": [
      "125 is an Armstrong number\n",
      "153 is an Armstrong number\n"
     ]
    }
   ],
   "source": [
    "#Python Program to Find Armstrong Number in an Interval\n",
    "\n",
    "lower = 100\n",
    "upper = 200\n",
    "for num in range(lower,upper):\n",
    "    sum = 0\n",
    "    temp = num\n",
    "    while temp > 0:\n",
    "        digit = temp % 10\n",
    "        sum +=digit**3\n",
    "        temp //= 10\n",
    "        if num == sum:\n",
    "            print(num, \"is an Armstrong number\")"
   ]
  },
  {
   "cell_type": "code",
   "execution_count": 16,
   "id": "b76270e8",
   "metadata": {},
   "outputs": [
    {
     "name": "stdout",
     "output_type": "stream",
     "text": [
      "Enter a number: 100\n",
      "The sum is 5050\n"
     ]
    }
   ],
   "source": [
    "#Python Program to Find the Sum of Natural Numbers\n",
    "num =int(input(\"Enter a number: \"))\n",
    "if num < 0:\n",
    "    print(\"not a natural number\")\n",
    "else:\n",
    "    sum = 0\n",
    "    while(num>0):\n",
    "        sum += num\n",
    "        num -=1\n",
    "print(\"The sum is\", sum)\n",
    "    "
   ]
  }
 ],
 "metadata": {
  "kernelspec": {
   "display_name": "Python 3",
   "language": "python",
   "name": "python3"
  },
  "language_info": {
   "codemirror_mode": {
    "name": "ipython",
    "version": 3
   },
   "file_extension": ".py",
   "mimetype": "text/x-python",
   "name": "python",
   "nbconvert_exporter": "python",
   "pygments_lexer": "ipython3",
   "version": "3.8.8"
  }
 },
 "nbformat": 4,
 "nbformat_minor": 5
}
