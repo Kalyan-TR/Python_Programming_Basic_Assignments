{
 "cells": [
  {
   "cell_type": "code",
   "execution_count": 6,
   "id": "c5d959d4",
   "metadata": {},
   "outputs": [
    {
     "name": "stdout",
     "output_type": "stream",
     "text": [
      "Enter the value of a : 24\n",
      "Enter the value of b : 36\n",
      "The LCM of value of 24 and 36 is :  72\n"
     ]
    }
   ],
   "source": [
    "#Python Program to Find LCM\n",
    "a = int(input(\"Enter the value of a : \"))\n",
    "b = int(input(\"Enter the value of b : \"))\n",
    "\n",
    "for i in range(1, a *b+1):\n",
    "    if i%a==0 and i%b == 0:\n",
    "        print(\"The LCM of value of\",a,'and',b, \"is : \",i)\n",
    "        break"
   ]
  },
  {
   "cell_type": "code",
   "execution_count": 9,
   "id": "e284cbff",
   "metadata": {},
   "outputs": [
    {
     "name": "stdout",
     "output_type": "stream",
     "text": [
      "Enter the value of a : 25\n",
      "Enter the value of b : 15\n",
      "HCF is : 5\n"
     ]
    }
   ],
   "source": [
    "#Python Program to Find HCF\n",
    "a = int(input(\"Enter the value of a : \"))\n",
    "b = int(input(\"Enter the value of b : \"))\n",
    "\n",
    "while a%b!=0:\n",
    "    remainder = a%b\n",
    "    a=b\n",
    "    b=remainder\n",
    "    \n",
    "print(\"HCF is :\",b)"
   ]
  },
  {
   "cell_type": "code",
   "execution_count": 10,
   "id": "89291244",
   "metadata": {},
   "outputs": [
    {
     "name": "stdout",
     "output_type": "stream",
     "text": [
      "Enter the decimal27\n",
      "0b11011 in Binary.\n",
      "0o33 in Octal..\n",
      "0x1b in Hexadecimal.\n"
     ]
    }
   ],
   "source": [
    "# Python Program to Convert Decimal to Binary, Octal and Hexadecimal\n",
    "decimal = int(input(\"Enter the decimal\"))\n",
    "\n",
    "print(bin(decimal),\"in Binary.\")\n",
    "print(oct(decimal),\"in Octal..\")\n",
    "print(hex(decimal),\"in Hexadecimal.\")"
   ]
  },
  {
   "cell_type": "code",
   "execution_count": 13,
   "id": "f4725217",
   "metadata": {},
   "outputs": [
    {
     "name": "stdout",
     "output_type": "stream",
     "text": [
      "Enter the character : p\n",
      "the ASCII value of a character is :  112\n"
     ]
    }
   ],
   "source": [
    "# Python Program To Find ASCII value of a character\n",
    "\n",
    "char = input(\"Enter the character : \")\n",
    "print(\"the ASCII value of a character is : \",ord(char))"
   ]
  },
  {
   "cell_type": "code",
   "execution_count": 17,
   "id": "5b8a0e6b",
   "metadata": {},
   "outputs": [
    {
     "name": "stdout",
     "output_type": "stream",
     "text": [
      "Select the operation -\n",
      "1.Add\n",
      "2.subtract\n",
      "3.multiply\n",
      "4.divide\n",
      "\n",
      "Select operations from 1,2,3,4 : 1\n",
      "Enter the value of number_1: 15\n",
      "Enter the value of number_2: 12\n",
      "15 + 12 = 27\n"
     ]
    }
   ],
   "source": [
    "# Python Program to Make a Simple Calculator with 4 basic mathematical operations\n",
    "\n",
    "def add(num1, num2):\n",
    "    return num1 + num2\n",
    "def subtract(num1, num2):\n",
    "    return num1 - num2\n",
    "def multiply(num1, num2):\n",
    "    return num1 * num2\n",
    "def divide(num1, num2):\n",
    "    return num1/ num2\n",
    "\n",
    "print(\"Select the operation -\\n\"\\\n",
    "         \"1.Add\\n\"\\\n",
    "         \"2.subtract\\n\"\\\n",
    "         \"3.multiply\\n\"\\\n",
    "         \"4.divide\\n\")\n",
    "select = int(input(\"Select operations from 1,2,3,4 : \"))\n",
    "number_1 = int(input(\"Enter the value of number_1: \"))\n",
    "number_2 = int(input(\"Enter the value of number_2: \"))\n",
    "\n",
    "if select ==1:\n",
    "    print(number_1,\"+\",number_2,\"=\",add(number_1, number_2))\n",
    "    \n",
    "if select ==2:\n",
    "    print(number_1,\"-\",number_2,\"=\",subtract(number_1, number_2))\n",
    "\n",
    "if select ==3:\n",
    "    print(number_1,\"*\",number_2,\"=\",multiply(number_1, number_2))\n",
    "    \n",
    "if select ==4:\n",
    "    print(number_1,\"/\",number_2,\"=\",divide(number_1, number_2))"
   ]
  },
  {
   "cell_type": "code",
   "execution_count": null,
   "id": "e1efbaab",
   "metadata": {},
   "outputs": [],
   "source": []
  }
 ],
 "metadata": {
  "kernelspec": {
   "display_name": "Python 3",
   "language": "python",
   "name": "python3"
  },
  "language_info": {
   "codemirror_mode": {
    "name": "ipython",
    "version": 3
   },
   "file_extension": ".py",
   "mimetype": "text/x-python",
   "name": "python",
   "nbconvert_exporter": "python",
   "pygments_lexer": "ipython3",
   "version": "3.8.8"
  }
 },
 "nbformat": 4,
 "nbformat_minor": 5
}
